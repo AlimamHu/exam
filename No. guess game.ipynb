{
 "cells": [
  {
   "cell_type": "code",
   "execution_count": null,
   "metadata": {},
   "outputs": [],
   "source": [
    "from random import randrange\n",
    "t=randrange(2,50)\n",
    "final=6\n",
    "\n",
    "print('''enter no. two2fifty between not big''')\n",
    "\n",
    "for i in range(6):\n",
    "    print(f'...notice notice notice... you have {final} time ')\n",
    "    user=int(input('enter the one2two digit no. : '))\n",
    "    if user==t:\n",
    "        print('!! you win !! :) ')\n",
    "        break;\n",
    "    elif user>50:\n",
    "        print('YOU ENTER OUT OF THE RANGE ')\n",
    "        break;\n",
    "    else:\n",
    "        \n",
    "        if user>t:\n",
    "            print('you no. is so  large ')\n",
    "        elif user==t-1 or user==t+1:\n",
    "            print('show near try again ...!')\n",
    "        else:\n",
    "            print('you no. is so small')\n",
    "        final-=1   "
   ]
  }
 ],
 "metadata": {
  "kernelspec": {
   "display_name": "Python 3",
   "language": "python",
   "name": "python3"
  },
  "language_info": {
   "codemirror_mode": {
    "name": "ipython",
    "version": 3
   },
   "file_extension": ".py",
   "mimetype": "text/x-python",
   "name": "python",
   "nbconvert_exporter": "python",
   "pygments_lexer": "ipython3",
   "version": "3.9.1"
  }
 },
 "nbformat": 4,
 "nbformat_minor": 4
}
