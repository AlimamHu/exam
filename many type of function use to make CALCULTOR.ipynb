{
 "cells": [
  {
   "cell_type": "markdown",
   "metadata": {},
   "source": [
    "<h1><b>'This is normal coding with the netsd condition'</b> </h1>"
   ]
  },
  {
   "cell_type": "code",
   "execution_count": null,
   "metadata": {},
   "outputs": [],
   "source": [
    "x=int(input('Enter the first no  .: '))\n",
    "operator=input('+ * / - : ')\n",
    "y=int(input('Enter the second no .: '))\n",
    "if operator=='+':\n",
    "    print(int(x)+int(y))\n",
    "else:\n",
    "    if operator=='*':\n",
    "        print(int(x)*int(y))\n",
    "    elif operator=='**':\n",
    "        print(int(x)**int(y))\n",
    "    elif operator=='-':\n",
    "        print(int(x)-int(y))\n",
    "    else:    \n",
    "        print(int(x)/int(y))\n"
   ]
  },
  {
   "cell_type": "markdown",
   "metadata": {},
   "source": [
    "<h1><b>this is fucntion code</b> </h1>"
   ]
  },
  {
   "cell_type": "code",
   "execution_count": null,
   "metadata": {},
   "outputs": [],
   "source": [
    "def calcultor(operator,x=0,y=0):\n",
    "    '''that is calling function with the \n",
    "    this is only do small calculation addidition subscrtion multiply division \n",
    "    & and also exponet'''\n",
    "\n",
    "    if operator=='+':\n",
    "        return (int(x)+int(y))\n",
    "    else:\n",
    "        if operator=='*':\n",
    "            return (int(x)*int(y))\n",
    "        elif operator=='**':\n",
    "            return (int(x)**int(y))\n",
    "        elif operator=='-':\n",
    "            return (int(x)-int(y))\n",
    "        else:    \n",
    "            return (int(x)/int(y))\n",
    "        \n",
    "print(calcultor('**',2,99))\n",
    "\n"
   ]
  },
  {
   "cell_type": "code",
   "execution_count": null,
   "metadata": {},
   "outputs": [],
   "source": []
  }
 ],
 "metadata": {
  "kernelspec": {
   "display_name": "Python 3",
   "language": "python",
   "name": "python3"
  },
  "language_info": {
   "codemirror_mode": {
    "name": "ipython",
    "version": 3
   },
   "file_extension": ".py",
   "mimetype": "text/x-python",
   "name": "python",
   "nbconvert_exporter": "python",
   "pygments_lexer": "ipython3",
   "version": "3.9.1"
  }
 },
 "nbformat": 4,
 "nbformat_minor": 4
}
